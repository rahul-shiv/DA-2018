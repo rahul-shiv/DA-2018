{
 "cells": [
  {
   "cell_type": "code",
   "execution_count": 1,
   "metadata": {},
   "outputs": [
    {
     "name": "stdout",
     "output_type": "stream",
     "text": [
      "Sample overview\n",
      "\n",
      "0    Led by Woody, Andy's toys live happily in his ...\n",
      "1    When siblings Judy and Peter discover an encha...\n",
      "2    A family wedding reignites the ancient feud be...\n",
      "3    Cheated on, mistreated and stepped on, the wom...\n",
      "4    Just when George Banks has recovered from his ...\n",
      "Name: overview, dtype: object\n"
     ]
    }
   ],
   "source": [
    "#We will attempt to perform content based filtering using 1. overview and 2. Keywords, genres, cast and crew\n",
    "import pandas as pd\n",
    "from sklearn.feature_extraction.text import TfidfVectorizer\n",
    "from sklearn.metrics.pairwise import linear_kernel\n",
    "\n",
    "meta = pd.read_csv(\"movies_metadata_preprocessed.csv\")\n",
    "print('Sample overview\\n')\n",
    "print(meta['overview'].head())\n",
    "meta['overview'] = meta['overview'].fillna('')\n",
    "\n",
    "count = TfidfVectorizer(stop_words='english')\n",
    "matrix = count.fit_transform(meta['overview'])\n",
    "cosine_sim_overview = linear_kernel(matrix, matrix)\n",
    "\n",
    "indices_overview = pd.Series(meta.index, index=meta['title']).drop_duplicates()"
   ]
  },
  {
   "cell_type": "code",
   "execution_count": 2,
   "metadata": {},
   "outputs": [
    {
     "name": "stdout",
     "output_type": "stream",
     "text": [
      "[[1.         0.01501598 0.         ... 0.         0.00593763 0.        ]\n",
      " [0.01501598 1.         0.04686889 ... 0.         0.02199034 0.00927971]\n",
      " [0.         0.04686889 1.         ... 0.         0.01404055 0.        ]\n",
      " ...\n",
      " [0.         0.         0.         ... 1.         0.         0.        ]\n",
      " [0.00593763 0.02199034 0.01404055 ... 0.         1.         0.        ]\n",
      " [0.         0.00927971 0.         ... 0.         0.         1.        ]]\n"
     ]
    }
   ],
   "source": [
    "print(cosine_sim_overview)"
   ]
  },
  {
   "cell_type": "code",
   "execution_count": 3,
   "metadata": {},
   "outputs": [
    {
     "name": "stdout",
     "output_type": "stream",
     "text": [
      "38020         The Conjuring 2\n",
      "8087     The Boston Strangler\n",
      "41622      Ghosts of Darkness\n",
      "24885         The Borderlands\n",
      "24041                   Ouija\n",
      "39228       Chasing the Devil\n",
      "19110          The Apparition\n",
      "39115          Something Evil\n",
      "16755               The Arbor\n",
      "37937        8213: Gacy House\n",
      "Name: title, dtype: object\n"
     ]
    }
   ],
   "source": [
    "def get_recommendations(title, indices, cosine_sim,df):\n",
    "    idx = indices[title]\n",
    "    if type(idx) == pd.Series:\n",
    "        idx = list(idx)[0]\n",
    "    sim_scores = list(enumerate(cosine_sim[idx]))\n",
    "    sim_scores = sorted(sim_scores, key=lambda x: x[1], reverse=True)\n",
    "    sim_scores = sim_scores[1:11]\n",
    "    movie_indices = [i[0] for i in sim_scores]\n",
    "    return df['title'].iloc[movie_indices]\n",
    "\n",
    "print(get_recommendations(\"The Conjuring\", indices_overview, cosine_sim_overview,meta))"
   ]
  },
  {
   "cell_type": "code",
   "execution_count": 5,
   "metadata": {
    "collapsed": true
   },
   "outputs": [],
   "source": [
    "meta2 = pd.read_csv(\"movies_metadata_preprocessed.csv\")\n",
    "credits = pd.read_csv('../credits.csv')\n",
    "meta2 = meta2.merge(credits, on = 'id')\n",
    "meta2 = meta2.dropna(subset = ['cast', 'crew'])\n",
    "# print(meta2)\n",
    "indices_credits = pd.Series(meta2.index, index=meta2['title']).drop_duplicates()"
   ]
  },
  {
   "cell_type": "code",
   "execution_count": 6,
   "metadata": {
    "collapsed": true
   },
   "outputs": [],
   "source": [
    "from ast import literal_eval\n",
    "# print(type(meta2['cast'][0]))\n",
    "# print(type(meta2['crew'][0]))\n",
    "# print(type(meta2['keywords'][0]))\n",
    "# print(type(meta2['genres'][0]))\n",
    "meta2 = meta2.dropna(subset = ['keywords'])\n",
    "meta2 = meta2.dropna(subset = ['genres'])  "
   ]
  },
  {
   "cell_type": "code",
   "execution_count": 7,
   "metadata": {
    "collapsed": true
   },
   "outputs": [],
   "source": [
    "#Content based filtering using keywords, genres, cast and crew\n",
    "from sklearn.feature_extraction.text import CountVectorizer\n",
    "from sklearn.metrics.pairwise import cosine_similarity\n",
    "from ast import literal_eval\n",
    "\n",
    "\n",
    "features = ['cast','crew','keywords', 'genres']\n",
    "\n",
    "for feature in features:\n",
    "    meta2.loc[:,feature] = meta2[feature].apply(literal_eval)\n"
   ]
  },
  {
   "cell_type": "code",
   "execution_count": null,
   "metadata": {
    "collapsed": true
   },
   "outputs": [],
   "source": [
    "import numpy as np\n",
    "def get_director(x):\n",
    "    for i in x:\n",
    "        if i['job'] == 'Director':\n",
    "            return i['name']\n",
    "    return np.nan\n",
    "\n",
    "def get_list(x,feature):\n",
    "    if isinstance(x, list):\n",
    "        if feature!='keywords':\n",
    "            names = [i['name'] for i in x]\n",
    "        else:\n",
    "            names = [i for i in x]\n",
    "        if len(names) > 3:\n",
    "            names = names[:3]\n",
    "        return names  \n",
    "    return []\n",
    "\n",
    "\n",
    "\n",
    "def clean_data(x):\n",
    "    if isinstance(x, list):\n",
    "        return [str.lower(i.replace(\" \", \"\")) for i in x]\n",
    "    else:\n",
    "        if isinstance(x, str):\n",
    "            return str.lower(x.replace(\" \", \"\"))\n",
    "        else:\n",
    "            return ''\n",
    "\n",
    "meta2['director'] = meta2['crew'].apply(get_director)\n",
    "\n",
    "features = ['cast', 'keywords','genres']\n",
    "\n",
    "for feature in features:\n",
    "    meta2.loc[:,feature] = meta2[feature].apply(get_list,args=(feature,))\n",
    "#     print('getlist',feature)\n",
    "    \n",
    "# meta.loc[:,'genres']=meta.loc[:,'genres'].apply(get_list)\n",
    "    \n",
    "features = ['cast', 'keywords', 'director', 'genres']\n",
    "\n",
    "for feature in features:\n",
    "    meta2[feature] = meta2[feature].apply(clean_data)\n",
    "#     print('cleandata',feature)\n",
    "    \n",
    "def combine(x):\n",
    "    return ' '.join(x['keywords']) + ' ' + ' '.join(x['cast']) + ' ' + x['director'] + ' ' + ' '.join(x['genres'])\n",
    "meta2.loc[:,'combined'] = meta2.apply(combine, axis=1)\n",
    "\n",
    "\n",
    "count = CountVectorizer(stop_words='english')\n",
    "count_matrix = count.fit_transform(meta2['combined'])\n",
    "\n",
    "cosine_sim_credits = cosine_similarity(count_matrix, count_matrix)\n",
    "\n",
    "meta2 = meta2.reset_index()\n"
   ]
  },
  {
   "cell_type": "code",
   "execution_count": 9,
   "metadata": {},
   "outputs": [
    {
     "name": "stdout",
     "output_type": "stream",
     "text": [
      "16732                                        Insidious\n",
      "21320                             Insidious: Chapter 2\n",
      "11909                                           Joshua\n",
      "33367                                              Saw\n",
      "11616                            The Hills Have Eyes 2\n",
      "15149                                         The Tomb\n",
      "18185                                 Gorilla at Large\n",
      "28579    The Last Will and Testament of Rosalind Leigh\n",
      "34572                                  Severed Footage\n",
      "184                                       The Prophecy\n",
      "Name: title, dtype: object\n"
     ]
    }
   ],
   "source": [
    "print(get_recommendations('The Conjuring',indices_credits, cosine_sim_credits,meta2))"
   ]
  },
  {
   "cell_type": "code",
   "execution_count": 10,
   "metadata": {},
   "outputs": [
    {
     "name": "stdout",
     "output_type": "stream",
     "text": [
      "15033                                 Iron Man 2\n",
      "16140                               TRON: Legacy\n",
      "20562                                 Iron Man 3\n",
      "26139                    Avengers: Age of Ultron\n",
      "26145                 Captain America: Civil War\n",
      "1970                                        Tron\n",
      "17633                               The Avengers\n",
      "34864                                Slow Action\n",
      "177      Mighty Morphin Power Rangers: The Movie\n",
      "5001                            The Time Machine\n",
      "Name: title, dtype: object\n"
     ]
    }
   ],
   "source": [
    "print(get_recommendations('Iron Man',indices_credits, cosine_sim_credits,meta2))"
   ]
  }
 ],
 "metadata": {
  "kernelspec": {
   "display_name": "Python 3",
   "language": "python",
   "name": "python3"
  },
  "language_info": {
   "codemirror_mode": {
    "name": "ipython",
    "version": 3
   },
   "file_extension": ".py",
   "mimetype": "text/x-python",
   "name": "python",
   "nbconvert_exporter": "python",
   "pygments_lexer": "ipython3",
   "version": "3.6.1"
  }
 },
 "nbformat": 4,
 "nbformat_minor": 2
}
