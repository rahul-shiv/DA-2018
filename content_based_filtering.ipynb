{
 "cells": [
  {
   "cell_type": "code",
   "execution_count": null,
   "metadata": {},
   "outputs": [],
   "source": [
    "#We will attempt to perform content based filtering using 1. overview and 2. Keywords, genres, cast and crew\n",
    "import pandas as pd\n",
    "from sklearn.feature_extraction.text import TfidfVectorizer\n",
    "from sklearn.metrics.pairwise import linear_kernel\n",
    "\n",
    "meta = pd.read_csv(\"movies_metadata_preprocessed.csv\")\n",
    "print(meta['overview'].head())\n",
    "meta['overview'] = meta['overview'].fillna('')\n",
    "\n",
    "count = TfidfVectorizer(stop_words='english')\n",
    "matrix = count.fit_transform(meta['overview'])\n",
    "cosine_sim = linear_kernel(matrix, matrix)\n",
    "\n",
    "indices = pd.Series(meta.index, index=meta['title']).drop_duplicates()"
   ]
  },
  {
   "cell_type": "code",
   "execution_count": null,
   "metadata": {},
   "outputs": [],
   "source": [
    "print(cosine_sim)"
   ]
  },
  {
   "cell_type": "code",
   "execution_count": null,
   "metadata": {},
   "outputs": [],
   "source": [
    "def get_recommendations(title, cosine_sim=cosine_sim):\n",
    "    idx = indices[title]\n",
    "    sim_scores = list(enumerate(cosine_sim[idx]))\n",
    "    sim_scores = sorted(sim_scores, key=lambda x: x[1], reverse=True)\n",
    "    sim_scores = sim_scores[1:11]\n",
    "    movie_indices = [i[0] for i in sim_scores]\n",
    "    return meta['title'].iloc[movie_indices]\n",
    "\n",
    "\n",
    "rec = get_recommendations(\"The Conjuring\")\n",
    "print(rec)"
   ]
  },
  {
   "cell_type": "code",
   "execution_count": null,
   "metadata": {},
   "outputs": [],
   "source": [
    "meta = pd.read_csv(\"movies_metadata_preprocessed.csv\")\n",
    "credits = pd.read_csv('../credits.csv')\n",
    "meta = meta.merge(credits, on = 'id')\n",
    "meta = meta.dropna(subset = ['cast', 'crew'])\n",
    "print(meta)"
   ]
  },
  {
   "cell_type": "code",
   "execution_count": null,
   "metadata": {},
   "outputs": [],
   "source": [
    "from ast import literal_eval\n",
    "print(type(meta['cast'][0]))\n",
    "print(type(meta['crew'][0]))\n",
    "print(type(meta['keywords'][0]))\n",
    "print(type(meta['genres'][0]))\n",
    "meta = meta.dropna(subset = ['keywords'])\n",
    "meta = meta.dropna(subset = ['genres'])  "
   ]
  },
  {
   "cell_type": "code",
   "execution_count": null,
   "metadata": {},
   "outputs": [],
   "source": [
    "#Content based filtering using keywords, genres, cast and crew\n",
    "from sklearn.feature_extraction.text import CountVectorizer\n",
    "from sklearn.metrics.pairwise import cosine_similarity\n",
    "from ast import literal_eval\n",
    "\n",
    "\n",
    "features = ['cast','crew','keywords', 'genres']\n",
    "\n",
    "for feature in features:\n",
    "    meta.loc[:,feature] = meta[feature].apply(literal_eval)\n"
   ]
  },
  {
   "cell_type": "code",
   "execution_count": null,
   "metadata": {},
   "outputs": [],
   "source": [
    "import numpy as np\n",
    "def get_director(x):\n",
    "    for i in x:\n",
    "        if i['job'] == 'Director':\n",
    "            return i['name']\n",
    "    return np.nan\n",
    "\n",
    "def get_list(x,feature):\n",
    "    if isinstance(x, list):\n",
    "        if feature!='keywords':\n",
    "            names = [i['name'] for i in x]\n",
    "        else:\n",
    "            names = [i for i in x]\n",
    "        if len(names) > 3:\n",
    "            names = names[:3]\n",
    "        return names  \n",
    "    return []\n",
    "\n",
    "\n",
    "\n",
    "def clean_data(x):\n",
    "    if isinstance(x, list):\n",
    "        return [str.lower(i.replace(\" \", \"\")) for i in x]\n",
    "    else:\n",
    "        if isinstance(x, str):\n",
    "            return str.lower(x.replace(\" \", \"\"))\n",
    "        else:\n",
    "            return ''\n",
    "\n",
    "meta['director'] = meta['crew'].apply(get_director)\n",
    "\n",
    "features = ['cast', 'keywords','genres']\n",
    "\n",
    "for feature in features:\n",
    "    meta.loc[:,feature] = meta[feature].apply(get_list,args=(feature,))\n",
    "    print('getlist',feature)\n",
    "    \n",
    "# meta.loc[:,'genres']=meta.loc[:,'genres'].apply(get_list)\n",
    "    \n",
    "features = ['cast', 'keywords', 'director', 'genres']\n",
    "\n",
    "for feature in features:\n",
    "    meta[feature] = meta[feature].apply(clean_data)\n",
    "    print('cleandata',feature)\n",
    "    \n",
    "def combine(x):\n",
    "    return ' '.join(x['keywords']) + ' ' + ' '.join(x['cast']) + ' ' + x['director'] + ' ' + ' '.join(x['genres'])\n",
    "meta.loc[:,'combined'] = meta.apply(combine, axis=1)\n",
    "\n",
    "\n",
    "count = CountVectorizer(stop_words='english')\n",
    "count_matrix = count.fit_transform(meta['combined'])\n",
    "\n",
    "cosine_sim2 = cosine_similarity(count_matrix, count_matrix)\n",
    "\n",
    "meta = meta.reset_index()\n",
    "indices = pd.Series(meta.index, index=meta['title'])"
   ]
  },
  {
   "cell_type": "code",
   "execution_count": null,
   "metadata": {},
   "outputs": [],
   "source": [
    "get_recommendations('The Conjuring', cosine_sim2)"
   ]
  }
 ],
 "metadata": {
  "kernelspec": {
   "display_name": "Python 3",
   "language": "python",
   "name": "python3"
  },
  "language_info": {
   "codemirror_mode": {
    "name": "ipython",
    "version": 3
   },
   "file_extension": ".py",
   "mimetype": "text/x-python",
   "name": "python",
   "nbconvert_exporter": "python",
   "pygments_lexer": "ipython3",
   "version": "3.6.1"
  }
 },
 "nbformat": 4,
 "nbformat_minor": 2
}
