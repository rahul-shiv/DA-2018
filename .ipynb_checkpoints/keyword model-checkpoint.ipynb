{
 "cells": [
  {
   "cell_type": "code",
   "execution_count": 1,
   "metadata": {
    "collapsed": true
   },
   "outputs": [],
   "source": [
    "from wordcloud import WordCloud, STOPWORDS \n",
    "import matplotlib.pyplot as plt\n",
    "import pandas as pd\n",
    "from ast import literal_eval\n",
    "import plotly.offline as off\n",
    "import nltk\n",
    "from nltk.corpus import wordnet\n",
    "import numpy as np\n",
    "from sklearn.model_selection import train_test_split\n",
    "import json\n",
    "meta = pd.read_csv('movies_metadata_preprocessed.csv')\n",
    "#random_state in the train test split has been set to 1 to recreate results, remove it to review model\n",
    "train,test = train_test_split(meta,test_size=0.25,random_state=1)"
   ]
  },
  {
   "cell_type": "code",
   "execution_count": 2,
   "metadata": {
    "collapsed": true
   },
   "outputs": [],
   "source": [
    "%store -r keyword_dict\n",
    "%store -r new_keyword_occurences\n",
    "\n",
    "#building dictionary containing keyword weights based on revenue, i.e fitting the model\n",
    "\n",
    "dict_key=dict()\n",
    "for a,b in new_keyword_occurences:\n",
    "    dict_key[a]=b\n",
    "revenue_dict = dict()\n",
    "\n",
    "for index,row in train.iterrows():\n",
    "    if type(row.keywords)==type(0.0):\n",
    "        continue\n",
    "    for name in literal_eval(row.keywords):\n",
    "        try:\n",
    "            revenue_dict[name] = revenue_dict.get(name,0)+(row.revenue)/dict_key[name]\n",
    "        except:\n",
    "            pass"
   ]
  },
  {
   "cell_type": "code",
   "execution_count": 3,
   "metadata": {
    "collapsed": true
   },
   "outputs": [],
   "source": [
    "#predicting the test revenue using the model built\n",
    "\n",
    "def predictor(df):\n",
    "    pred = []\n",
    "    indices = []\n",
    "    for index,row in df.iterrows():\n",
    "        temp=0\n",
    "        if type(row.keywords)==type(0.0):\n",
    "            pred.append(np.nan)\n",
    "            continue\n",
    "        for name in literal_eval(row.keywords):\n",
    "            try:\n",
    "                temp += revenue_dict[name]/len(literal_eval(row.keywords))\n",
    "\n",
    "            except:\n",
    "                pass\n",
    "        if temp == 0:\n",
    "            indices.append(index)\n",
    "        pred.append(temp)\n",
    "        return np.array(pred),indices\n"
   ]
  },
  {
   "cell_type": "code",
   "execution_count": 4,
   "metadata": {},
   "outputs": [
    {
     "name": "stderr",
     "output_type": "stream",
     "text": [
      "/Users/rahulshiv/anaconda/lib/python3.6/site-packages/pandas/core/indexing.py:362: SettingWithCopyWarning:\n",
      "\n",
      "\n",
      "A value is trying to be set on a copy of a slice from a DataFrame.\n",
      "Try using .loc[row_indexer,col_indexer] = value instead\n",
      "\n",
      "See the caveats in the documentation: http://pandas.pydata.org/pandas-docs/stable/indexing.html#indexing-view-versus-copy\n",
      "\n",
      "/Users/rahulshiv/anaconda/lib/python3.6/site-packages/pandas/core/indexing.py:543: SettingWithCopyWarning:\n",
      "\n",
      "\n",
      "A value is trying to be set on a copy of a slice from a DataFrame.\n",
      "Try using .loc[row_indexer,col_indexer] = value instead\n",
      "\n",
      "See the caveats in the documentation: http://pandas.pydata.org/pandas-docs/stable/indexing.html#indexing-view-versus-copy\n",
      "\n",
      "/Users/rahulshiv/anaconda/lib/python3.6/site-packages/pandas/core/indexing.py:1472: FutureWarning:\n",
      "\n",
      "\n",
      "Passing list-likes to .loc or [] with any missing label will raise\n",
      "KeyError in the future, you can use .reindex() as an alternative.\n",
      "\n",
      "See the documentation here:\n",
      "https://pandas.pydata.org/pandas-docs/stable/indexing.html#deprecate-loc-reindex-listlike\n",
      "\n"
     ]
    },
    {
     "name": "stdout",
     "output_type": "stream",
     "text": [
      "Test RMSE: 4259.142820099815\n",
      "Test Log RMSE: 0.5687555702738029\n"
     ]
    }
   ],
   "source": [
    "test.loc[:,'pred'],test_indices=predictor(test)\n",
    "test_predictions=test.loc[:,['name','release_date','revenue','pred']]\n",
    "test_predictions = test_predictions.drop(test_indices)\n",
    "test_predictions.loc[:,'log revenue']=np.log10(test_predictions.revenue)\n",
    "test_predictions.loc[:,'log predictions']=np.log10(test_predictions.pred)\n",
    "test_predictions.to_csv('predictions.csv')\n",
    "new_test_predictions = test_predictions[~test_predictions.pred.isnull()]\n",
    "print('Test RMSE:',(abs(new_test_predictions['pred']-new_test_predictions['revenue']).mean())**.5)\n",
    "print('Test Log RMSE:',(new_test_predictions['log predictions']-new_test_predictions['log revenue']).mean()**.5)\n"
   ]
  },
  {
   "cell_type": "code",
   "execution_count": 5,
   "metadata": {},
   "outputs": [
    {
     "name": "stderr",
     "output_type": "stream",
     "text": [
      "/Users/rahulshiv/anaconda/lib/python3.6/site-packages/pandas/core/indexing.py:362: SettingWithCopyWarning:\n",
      "\n",
      "\n",
      "A value is trying to be set on a copy of a slice from a DataFrame.\n",
      "Try using .loc[row_indexer,col_indexer] = value instead\n",
      "\n",
      "See the caveats in the documentation: http://pandas.pydata.org/pandas-docs/stable/indexing.html#indexing-view-versus-copy\n",
      "\n",
      "/Users/rahulshiv/anaconda/lib/python3.6/site-packages/pandas/core/indexing.py:543: SettingWithCopyWarning:\n",
      "\n",
      "\n",
      "A value is trying to be set on a copy of a slice from a DataFrame.\n",
      "Try using .loc[row_indexer,col_indexer] = value instead\n",
      "\n",
      "See the caveats in the documentation: http://pandas.pydata.org/pandas-docs/stable/indexing.html#indexing-view-versus-copy\n",
      "\n",
      "/Users/rahulshiv/anaconda/lib/python3.6/site-packages/pandas/core/indexing.py:1472: FutureWarning:\n",
      "\n",
      "\n",
      "Passing list-likes to .loc or [] with any missing label will raise\n",
      "KeyError in the future, you can use .reindex() as an alternative.\n",
      "\n",
      "See the documentation here:\n",
      "https://pandas.pydata.org/pandas-docs/stable/indexing.html#deprecate-loc-reindex-listlike\n",
      "\n"
     ]
    }
   ],
   "source": [
    "train.loc[:,'pred'],train_indices=predictor(train)\n",
    "train_predictions=train.loc[:,['name','release_date','revenue','pred']]\n",
    "train_predictions = train_predictions.drop(train_indices)\n",
    "train_predictions.loc[:,'log revenue']=np.log10(train_predictions.revenue)\n",
    "train_predictions.loc[:,'log predictions']=np.log10(train_predictions.pred)"
   ]
  },
  {
   "cell_type": "code",
   "execution_count": 6,
   "metadata": {},
   "outputs": [
    {
     "name": "stdout",
     "output_type": "stream",
     "text": [
      "Train RMSE: 4077.973977086107\n",
      "Train Log RMSE: 0.3397606265891847\n"
     ]
    }
   ],
   "source": [
    "new_train_predictions = train_predictions[~train_predictions.pred.isnull()]\n",
    "print('Train RMSE:',(abs(new_train_predictions['pred']-new_train_predictions['revenue']).mean())**.5)\n",
    "print('Train Log RMSE:',(new_train_predictions['log predictions']-new_train_predictions['log revenue']).mean()**.5)"
   ]
  }
 ],
 "metadata": {
  "kernelspec": {
   "display_name": "Python 3",
   "language": "python",
   "name": "python3"
  },
  "language_info": {
   "codemirror_mode": {
    "name": "ipython",
    "version": 3
   },
   "file_extension": ".py",
   "mimetype": "text/x-python",
   "name": "python",
   "nbconvert_exporter": "python",
   "pygments_lexer": "ipython3",
   "version": "3.6.1"
  }
 },
 "nbformat": 4,
 "nbformat_minor": 2
}
