{
 "cells": [
  {
   "cell_type": "code",
   "execution_count": 50,
   "metadata": {},
   "outputs": [],
   "source": [
    "import pandas as pd\n",
    "from sklearn import datasets, linear_model\n",
    "from sklearn.metrics import mean_squared_error, r2_score\n",
    "from sklearn.model_selection import train_test_split\n",
    "from sklearn import preprocessing\n",
    "from sklearn.cluster import KMeans\n",
    "import numpy as np\n",
    "import matplotlib.pyplot as plt"
   ]
  },
  {
   "cell_type": "code",
   "execution_count": 51,
   "metadata": {},
   "outputs": [],
   "source": [
    "keywords = pd.read_csv('keywords_preprocessed.csv')\n",
    "meta = pd.read_csv('movies_metadata_preprocessed.csv')\n",
    "ratings = pd.read_csv('ratings_preprocessed.csv')"
   ]
  },
  {
   "cell_type": "code",
   "execution_count": 221,
   "metadata": {},
   "outputs": [
    {
     "name": "stderr",
     "output_type": "stream",
     "text": [
      "/Users/prajwalkirankumar/anaconda3/lib/python3.6/site-packages/ipykernel_launcher.py:2: SettingWithCopyWarning: \n",
      "A value is trying to be set on a copy of a slice from a DataFrame\n",
      "\n",
      "See the caveats in the documentation: http://pandas.pydata.org/pandas-docs/stable/indexing.html#indexing-view-versus-copy\n",
      "  \n"
     ]
    }
   ],
   "source": [
    "df_numeric = meta[['budget','popularity','revenue','runtime','vote_average','vote_count']]\n",
    "df_numeric.dropna(inplace=True)\n",
    "\n",
    "train,test = train_test_split(df_numeric,test_size=0.25)"
   ]
  },
  {
   "cell_type": "code",
   "execution_count": 222,
   "metadata": {},
   "outputs": [],
   "source": [
    "x = train.values\n",
    "min_max_scaler = preprocessing.MinMaxScaler()\n",
    "x_scaled = min_max_scaler.fit_transform(x)\n",
    "df = pd.DataFrame(x_scaled)\n",
    "df.columns = df_numeric.columns"
   ]
  },
  {
   "cell_type": "code",
   "execution_count": 224,
   "metadata": {},
   "outputs": [
    {
     "data": {
      "image/png": "[encoded data removed]",
      "text/plain": [
       "<matplotlib.figure.Figure at 0x10f1b6f60>"
      ]
     },
     "metadata": {},
     "output_type": "display_data"
    }
   ],
   "source": [
    "Nc = range(1, 20)\n",
    "kmeans = [KMeans(n_clusters=i) for i in Nc]\n",
    "kmeans\n",
    "y = np.array(train.revenue).reshape(-1,1)\n",
    "score = [kmeans[i].fit(y).score(y) for i in range(len(kmeans))]\n",
    "score\n",
    "plt.plot(Nc,score)\n",
    "plt.xlabel('Number of Clusters')\n",
    "plt.ylabel('Score')\n",
    "plt.title('Elbow Curve')\n",
    "plt.show()"
   ]
  },
  {
   "cell_type": "code",
   "execution_count": 341,
   "metadata": {},
   "outputs": [
    {
     "name": "stderr",
     "output_type": "stream",
     "text": [
      "/Users/prajwalkirankumar/anaconda3/lib/python3.6/site-packages/ipykernel_launcher.py:3: SettingWithCopyWarning: \n",
      "A value is trying to be set on a copy of a slice from a DataFrame.\n",
      "Try using .loc[row_indexer,col_indexer] = value instead\n",
      "\n",
      "See the caveats in the documentation: http://pandas.pydata.org/pandas-docs/stable/indexing.html#indexing-view-versus-copy\n",
      "  This is separate from the ipykernel package so we can avoid doing imports until\n"
     ]
    }
   ],
   "source": [
    "kmeans = KMeans(n_clusters=4)\n",
    "pred = kmeans.fit(y).predict(y)\n",
    "train['cluster'] = kmeans.labels_\n"
   ]
  },
  {
   "cell_type": "code",
   "execution_count": 227,
   "metadata": {},
   "outputs": [
    {
     "data": {
      "text/plain": [
       "[4309, 267, 81, 877]"
      ]
     },
     "execution_count": 227,
     "metadata": {},
     "output_type": "execute_result"
    }
   ],
   "source": [
    "[len(train[train.cluster==i]) for i in range(4)]"
   ]
  },
  {
   "cell_type": "code",
   "execution_count": 228,
   "metadata": {},
   "outputs": [
    {
     "data": {
      "text/plain": [
       "[17479758.513344165, 399874618.88389516, 914204166.308642, 147611848.7628278]"
      ]
     },
     "execution_count": 228,
     "metadata": {},
     "output_type": "execute_result"
    }
   ],
   "source": [
    "[train[train.cluster==i].revenue.mean() for i in range(4)]"
   ]
  },
  {
   "cell_type": "code",
   "execution_count": 229,
   "metadata": {},
   "outputs": [
    {
     "data": {
      "text/html": [
       "<div>\n",
       "<style>\n",
       "    .dataframe thead tr:only-child th {\n",
       "        text-align: right;\n",
       "    }\n",
       "\n",
       "    .dataframe thead th {\n",
       "        text-align: left;\n",
       "    }\n",
       "\n",
       "    .dataframe tbody tr th {\n",
       "        vertical-align: top;\n",
       "    }\n",
       "</style>\n",
       "<table border=\"1\" class=\"dataframe\">\n",
       "  <thead>\n",
       "    <tr style=\"text-align: right;\">\n",
       "      <th></th>\n",
       "      <th>budget</th>\n",
       "      <th>popularity</th>\n",
       "      <th>revenue</th>\n",
       "      <th>runtime</th>\n",
       "      <th>vote_average</th>\n",
       "      <th>vote_count</th>\n",
       "    </tr>\n",
       "    <tr>\n",
       "      <th>cluster</th>\n",
       "      <th></th>\n",
       "      <th></th>\n",
       "      <th></th>\n",
       "      <th></th>\n",
       "      <th></th>\n",
       "      <th></th>\n",
       "    </tr>\n",
       "  </thead>\n",
       "  <tbody>\n",
       "    <tr>\n",
       "      <th>0</th>\n",
       "      <td>1.082423e+07</td>\n",
       "      <td>6.594573</td>\n",
       "      <td>1.747976e+07</td>\n",
       "      <td>105.943142</td>\n",
       "      <td>6.149408</td>\n",
       "      <td>227.670689</td>\n",
       "    </tr>\n",
       "    <tr>\n",
       "      <th>1</th>\n",
       "      <td>9.708828e+07</td>\n",
       "      <td>18.022921</td>\n",
       "      <td>3.998746e+08</td>\n",
       "      <td>117.022472</td>\n",
       "      <td>6.645318</td>\n",
       "      <td>2778.895131</td>\n",
       "    </tr>\n",
       "    <tr>\n",
       "      <th>2</th>\n",
       "      <td>1.589012e+08</td>\n",
       "      <td>44.119673</td>\n",
       "      <td>9.142042e+08</td>\n",
       "      <td>130.419753</td>\n",
       "      <td>6.969136</td>\n",
       "      <td>5462.864198</td>\n",
       "    </tr>\n",
       "    <tr>\n",
       "      <th>3</th>\n",
       "      <td>4.800756e+07</td>\n",
       "      <td>12.247029</td>\n",
       "      <td>1.476118e+08</td>\n",
       "      <td>112.640821</td>\n",
       "      <td>6.382098</td>\n",
       "      <td>1112.751425</td>\n",
       "    </tr>\n",
       "  </tbody>\n",
       "</table>\n",
       "</div>"
      ],
      "text/plain": [
       "               budget  popularity       revenue     runtime  vote_average  \\\n",
       "cluster                                                                     \n",
       "0        1.082423e+07    6.594573  1.747976e+07  105.943142      6.149408   \n",
       "1        9.708828e+07   18.022921  3.998746e+08  117.022472      6.645318   \n",
       "2        1.589012e+08   44.119673  9.142042e+08  130.419753      6.969136   \n",
       "3        4.800756e+07   12.247029  1.476118e+08  112.640821      6.382098   \n",
       "\n",
       "          vote_count  \n",
       "cluster               \n",
       "0         227.670689  \n",
       "1        2778.895131  \n",
       "2        5462.864198  \n",
       "3        1112.751425  "
      ]
     },
     "execution_count": 229,
     "metadata": {},
     "output_type": "execute_result"
    }
   ],
   "source": [
    "train.groupby(['cluster']).mean()"
   ]
  },
  {
   "cell_type": "code",
   "execution_count": 232,
   "metadata": {},
   "outputs": [
    {
     "data": {
      "image/png": "[encoded data removed]",
      "text/plain": [
       "<matplotlib.figure.Figure at 0x1a19fa2be0>"
      ]
     },
     "metadata": {},
     "output_type": "display_data"
    }
   ],
   "source": [
    "size_array = list(train.groupby(['cluster']).count()['revenue'].values)\n",
    "train[train['cluster']==size_array.index(sorted(size_array)[0])].revenue.mean()\n",
    "plt.scatter(train.popularity,train.revenue,c=kmeans.labels_)\n",
    "plt.show()"
   ]
  },
  {
   "cell_type": "code",
   "execution_count": 235,
   "metadata": {},
   "outputs": [
    {
     "data": {
      "text/plain": [
       "267"
      ]
     },
     "execution_count": 235,
     "metadata": {},
     "output_type": "execute_result"
    }
   ],
   "source": [
    "cluster1 = train[train.cluster==1]\n",
    "cluster1 = cluster1[cluster1.revenue!=0]\n",
    "len(cluster1)"
   ]
  },
  {
   "cell_type": "code",
   "execution_count": 247,
   "metadata": {},
   "outputs": [
    {
     "name": "stdout",
     "output_type": "stream",
     "text": [
      "               budget  popularity       revenue     runtime  vote_average  \\\n",
      "cluster                                                                     \n",
      "0        1.082423e+07    6.594573  1.747976e+07  105.943142      6.149408   \n",
      "1        9.708828e+07   18.022921  3.998746e+08  117.022472      6.645318   \n",
      "2        1.589012e+08   44.119673  9.142042e+08  130.419753      6.969136   \n",
      "3        4.800756e+07   12.247029  1.476118e+08  112.640821      6.382098   \n",
      "\n",
      "          vote_count  \n",
      "cluster               \n",
      "0         227.670689  \n",
      "1        2778.895131  \n",
      "2        5462.864198  \n",
      "3        1112.751425  \n",
      "               budget  popularity       revenue     runtime  vote_average  \\\n",
      "cluster                                                                     \n",
      "0        1.063108e+07    6.711234  1.736146e+07  105.712432      6.177869   \n",
      "1        9.438765e+07   15.765085  4.041839e+08  116.012346      6.490123   \n",
      "2        1.685625e+08   42.710566  1.013767e+09  131.333333      7.000000   \n",
      "3        4.490976e+07   11.926358  1.494579e+08  110.771739      6.337681   \n",
      "\n",
      "          vote_count  \n",
      "cluster               \n",
      "0         243.036885  \n",
      "1        2466.098765  \n",
      "2        5663.375000  \n",
      "3        1117.641304  \n"
     ]
    },
    {
     "name": "stderr",
     "output_type": "stream",
     "text": [
      "/Users/prajwalkirankumar/anaconda3/lib/python3.6/site-packages/ipykernel_launcher.py:1: FutureWarning: reshape is deprecated and will raise in a subsequent release. Please use .values.reshape(...) instead\n",
      "  \"\"\"Entry point for launching an IPython kernel.\n",
      "/Users/prajwalkirankumar/anaconda3/lib/python3.6/site-packages/ipykernel_launcher.py:2: SettingWithCopyWarning: \n",
      "A value is trying to be set on a copy of a slice from a DataFrame.\n",
      "Try using .loc[row_indexer,col_indexer] = value instead\n",
      "\n",
      "See the caveats in the documentation: http://pandas.pydata.org/pandas-docs/stable/indexing.html#indexing-view-versus-copy\n",
      "  \n"
     ]
    }
   ],
   "source": [
    "test_clusters = kmeans.predict(test.revenue.reshape(-1,1))\n",
    "test['cluster'] = test_clusters\n",
    "print(train.groupby(['cluster']).mean())\n",
    "print(test.groupby(['cluster']).mean())"
   ]
  },
  {
   "cell_type": "code",
   "execution_count": 340,
   "metadata": {},
   "outputs": [
    {
     "name": "stdout",
     "output_type": "stream",
     "text": [
      "        revenue\n",
      "7047  18.617812\n",
      "2223  18.074704\n",
      "611   18.705860\n",
      "4317  17.416119\n",
      "4871  19.445759\n",
      "3819  16.914052\n",
      "5914  20.374725\n",
      "5245  18.665435\n",
      "3479  15.977963\n",
      "6072  14.914123\n",
      "125   16.688464\n",
      "4641  18.705108\n",
      "893   18.846491\n",
      "6890  18.504641\n",
      "843   14.914123\n",
      "766   16.675424\n",
      "5390  19.296813\n",
      "52    19.019609\n",
      "6531  14.346139\n",
      "6662  16.830162\n",
      "5389  12.106843\n",
      "2404  17.353894\n",
      "1312  12.823062\n",
      "11    18.570069\n",
      "4352  14.817786\n",
      "3351  15.808711\n",
      "936   19.219538\n",
      "1278  15.424948\n",
      "1879  17.622173\n",
      "6677  10.171375\n",
      "...         ...\n",
      "5712  12.672890\n",
      "7204  10.338867\n",
      "7356  20.069103\n",
      "3596  18.389087\n",
      "7186  16.023785\n",
      "6846  16.588099\n",
      "113   16.915603\n",
      "336   20.521112\n",
      "2243  16.907916\n",
      "6131   8.877800\n",
      "5227  18.891388\n",
      "2820  12.663497\n",
      "3472  17.574073\n",
      "4900  18.146244\n",
      "1993  15.925474\n",
      "1066  15.886921\n",
      "3459   4.700480\n",
      "5973  12.214076\n",
      "5583   8.557567\n",
      "2423  19.011919\n",
      "2864  17.032062\n",
      "4945  17.115857\n",
      "5811  18.278644\n",
      "7352  12.273731\n",
      "1236  16.736740\n",
      "1586  11.968101\n",
      "3750  18.723228\n",
      "5755  16.884527\n",
      "5347  15.988479\n",
      "5174  12.781809\n",
      "\n",
      "[5534 rows x 1 columns]\n",
      "7.144234854269617\n",
      "        revenue  revenue_pred\n",
      "7047  18.617812     19.147538\n",
      "2223  18.074704     16.577679\n",
      "611   18.705860     16.364049\n",
      "4317  17.416119     15.533347\n",
      "4871  19.445759     18.720644\n",
      "3819  16.914052     15.150332\n",
      "5914  20.374725     23.526891\n",
      "5245  18.665435     15.816372\n",
      "3479  15.977963     14.863242\n",
      "6072  14.914123     16.112184\n",
      "125   16.688464     14.944786\n",
      "4641  18.705108     17.998316\n",
      "893   18.846491     16.165358\n",
      "6890  18.504641     16.290200\n",
      "843   14.914123     15.240745\n",
      "766   16.675424     15.097932\n",
      "5390  19.296813     17.140996\n",
      "52    19.019609     16.497469\n",
      "6531  14.346139     14.936365\n",
      "6662  16.830162     15.146987\n",
      "5389  12.106843     15.021279\n",
      "2404  17.353894     14.705896\n",
      "1312  12.823062     15.016139\n",
      "11    18.570069     18.387065\n",
      "4352  14.817786     15.426503\n",
      "3351  15.808711     15.764371\n",
      "936   19.219538     17.132090\n",
      "1278  15.424948     15.540196\n",
      "1879  17.622173     14.837510\n",
      "6677  10.171375     15.611809\n",
      "...         ...           ...\n",
      "5712  12.672890     15.595387\n",
      "7204  10.338867     14.401201\n",
      "7356  20.069103     19.888910\n",
      "3596  18.389087     17.887605\n",
      "7186  16.023785     15.527893\n",
      "6846  16.588099     15.083320\n",
      "113   16.915603     15.773853\n",
      "336   20.521112     19.221259\n",
      "2243  16.907916     15.113698\n",
      "6131   8.877800     15.038117\n",
      "5227  18.891388     17.683464\n",
      "2820  12.663497     14.554665\n",
      "3472  17.574073     16.209188\n",
      "4900  18.146244     16.294929\n",
      "1993  15.925474     15.632250\n",
      "1066  15.886921     15.769597\n",
      "3459   4.700480     15.446735\n",
      "5973  12.214076     14.728000\n",
      "5583   8.557567     14.716254\n",
      "2423  19.011919     16.086317\n",
      "2864  17.032062     15.116462\n",
      "4945  17.115857     15.893624\n",
      "5811  18.278644     17.683694\n",
      "7352  12.273731     14.398736\n",
      "1236  16.736740     15.777128\n",
      "1586  11.968101     14.987516\n",
      "3750  18.723228     16.851805\n",
      "5755  16.884527     14.933177\n",
      "5347  15.988479     16.007792\n",
      "5174  12.781809     15.198620\n",
      "\n",
      "[5534 rows x 2 columns]\n",
      "7047    -0.529726\n",
      "2223     1.497025\n",
      "611      2.341810\n",
      "4317     1.882772\n",
      "4871     0.725115\n",
      "3819     1.763721\n",
      "5914    -3.152165\n",
      "5245     2.849063\n",
      "3479     1.114720\n",
      "6072    -1.198061\n",
      "125      1.743677\n",
      "4641     0.706792\n",
      "893      2.681133\n",
      "6890     2.214440\n",
      "843     -0.326622\n",
      "766      1.577492\n",
      "5390     2.155817\n",
      "52       2.522140\n",
      "6531    -0.590227\n",
      "6662     1.683176\n",
      "5389    -2.914436\n",
      "2404     2.647998\n",
      "1312    -2.193077\n",
      "11       0.183004\n",
      "4352    -0.608717\n",
      "3351     0.044340\n",
      "936      2.087448\n",
      "1278    -0.115247\n",
      "1879     2.784663\n",
      "6677    -5.440434\n",
      "          ...    \n",
      "5712    -2.922497\n",
      "7204    -4.062334\n",
      "7356     0.180192\n",
      "3596     0.501482\n",
      "7186     0.495892\n",
      "6846     1.504779\n",
      "113      1.141750\n",
      "336      1.299853\n",
      "2243     1.794218\n",
      "6131    -6.160316\n",
      "5227     1.207925\n",
      "2820    -1.891167\n",
      "3472     1.364885\n",
      "4900     1.851315\n",
      "1993     0.293224\n",
      "1066     0.117325\n",
      "3459   -10.746254\n",
      "5973    -2.513924\n",
      "5583    -6.158687\n",
      "2423     2.925603\n",
      "2864     1.915601\n",
      "4945     1.222234\n",
      "5811     0.594949\n",
      "7352    -2.125005\n",
      "1236     0.959611\n",
      "1586    -3.019415\n",
      "3750     1.871423\n",
      "5755     1.951350\n",
      "5347    -0.019313\n",
      "5174    -2.416811\n",
      "Length: 5534, dtype: float64\n",
      "0.28662359987574726\n"
     ]
    }
   ],
   "source": [
    "from sklearn import linear_model\n",
    "from sklearn.metrics import mean_squared_error\n",
    "\n",
    "X = train[['budget','popularity','runtime','vote_average','vote_count']]\n",
    "# y = (train[['revenue']])\n",
    "y = np.log(train[['revenue']])\n",
    "print(y)\n",
    "lm = linear_model.LinearRegression()\n",
    "model = lm.fit(X,y)\n",
    "predictions = lm.predict(X)\n",
    "pred = pd.DataFrame(predictions,columns=[\"revenue\"])\n",
    "y['revenue_pred'] = predictions\n",
    "y = y[y.revenue_pred>0]\n",
    "\n",
    "# log_y = np.log10(y.revenue)\n",
    "# log_y_pred = np.log10(y.revenue_pred)\n",
    "# print(mean_squared_error(log_y,log_y_pred))\n",
    "print(mean_squared_error(y.revenue,y.revenue_pred))\n",
    "\n",
    "print(y)\n",
    "residuals = y.revenue - y.revenue_pred\n",
    "print(residuals)\n",
    "# plt.scatter(y.revenue,y.revenue_pred)\n",
    "# plt.scatter(residuals,y.revenue_pred)\n",
    "plt.show()\n",
    "\n",
    "print(model.score(X,y.revenue))"
   ]
  },
  {
   "cell_type": "code",
   "execution_count": null,
   "metadata": {},
   "outputs": [],
   "source": []
  },
  {
   "cell_type": "code",
   "execution_count": null,
   "metadata": {
    "collapsed": true
   },
   "outputs": [],
   "source": []
  },
  {
   "cell_type": "code",
   "execution_count": null,
   "metadata": {
    "collapsed": true
   },
   "outputs": [],
   "source": []
  }
 ],
 "metadata": {
  "kernelspec": {
   "display_name": "Python 3",
   "language": "python",
   "name": "python3"
  },
  "language_info": {
   "codemirror_mode": {
    "name": "ipython",
    "version": 3
   },
   "file_extension": ".py",
   "mimetype": "text/x-python",
   "name": "python",
   "nbconvert_exporter": "python",
   "pygments_lexer": "ipython3",
   "version": "3.6.3"
  }
 },
 "nbformat": 4,
 "nbformat_minor": 2
}
