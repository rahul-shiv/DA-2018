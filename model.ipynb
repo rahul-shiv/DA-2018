{
 "cells": [
  {
   "cell_type": "code",
   "execution_count": 1,
   "metadata": {
    "collapsed": true
   },
   "outputs": [],
   "source": [
    "import pandas as pd\n",
    "from sklearn import datasets, linear_model\n",
    "from sklearn.metrics import mean_squared_error, r2_score\n",
    "from sklearn.model_selection import train_test_split\n",
    "from sklearn import preprocessing\n",
    "from sklearn.cluster import KMeans\n",
    "import numpy as np\n",
    "import matplotlib.pyplot as plt"
   ]
  },
  {
   "cell_type": "code",
   "execution_count": 2,
   "metadata": {
    "collapsed": true
   },
   "outputs": [],
   "source": [
    "keywords = pd.read_csv('keywords_preprocessed.csv')\n",
    "meta = pd.read_csv('movies_metadata_preprocessed.csv')\n",
    "ratings = pd.read_csv('ratings_preprocessed.csv')"
   ]
  },
  {
   "cell_type": "code",
   "execution_count": 3,
   "metadata": {},
   "outputs": [
    {
     "name": "stderr",
     "output_type": "stream",
     "text": [
      "/Users/rahulshiv/anaconda/lib/python3.6/site-packages/ipykernel_launcher.py:2: SettingWithCopyWarning: \n",
      "A value is trying to be set on a copy of a slice from a DataFrame\n",
      "\n",
      "See the caveats in the documentation: http://pandas.pydata.org/pandas-docs/stable/indexing.html#indexing-view-versus-copy\n",
      "  \n"
     ]
    }
   ],
   "source": [
    "df_numeric = meta[['budget','popularity','revenue','runtime','vote_average','vote_count']]\n",
    "df_numeric.dropna(inplace=True)\n",
    "\n",
    "train,test = train_test_split(df_numeric,test_size=0.25)"
   ]
  },
  {
   "cell_type": "code",
   "execution_count": 4,
   "metadata": {
    "collapsed": true
   },
   "outputs": [],
   "source": [
    "x = train.values\n",
    "min_max_scaler = preprocessing.MinMaxScaler()\n",
    "x_scaled = min_max_scaler.fit_transform(x)\n",
    "df = pd.DataFrame(x_scaled)\n",
    "df.columns = df_numeric.columns"
   ]
  },
  {
   "cell_type": "code",
   "execution_count": 5,
   "metadata": {},
   "outputs": [
    {
     "data": {
      "image/png": "[encoded data removed]",
      "text/plain": [
       "<Figure size 432x288 with 1 Axes>"
      ]
     },
     "metadata": {},
     "output_type": "display_data"
    }
   ],
   "source": [
    "Nc = range(1, 20)\n",
    "kmeans = [KMeans(n_clusters=i) for i in Nc]\n",
    "kmeans\n",
    "y = np.array(train.revenue).reshape(-1,1)\n",
    "score = [kmeans[i].fit(y).score(y) for i in range(len(kmeans))]\n",
    "score\n",
    "plt.plot(Nc,score)\n",
    "plt.xlabel('Number of Clusters')\n",
    "plt.ylabel('Score')\n",
    "plt.title('Elbow Curve')\n",
    "plt.show()"
   ]
  },
  {
   "cell_type": "code",
   "execution_count": 6,
   "metadata": {},
   "outputs": [
    {
     "name": "stderr",
     "output_type": "stream",
     "text": [
      "/Users/rahulshiv/anaconda/lib/python3.6/site-packages/ipykernel_launcher.py:3: SettingWithCopyWarning: \n",
      "A value is trying to be set on a copy of a slice from a DataFrame.\n",
      "Try using .loc[row_indexer,col_indexer] = value instead\n",
      "\n",
      "See the caveats in the documentation: http://pandas.pydata.org/pandas-docs/stable/indexing.html#indexing-view-versus-copy\n",
      "  This is separate from the ipykernel package so we can avoid doing imports until\n"
     ]
    }
   ],
   "source": [
    "kmeans = KMeans(n_clusters=4)\n",
    "pred = kmeans.fit(y).predict(y)\n",
    "train['cluster'] = kmeans.labels_\n"
   ]
  },
  {
   "cell_type": "code",
   "execution_count": 7,
   "metadata": {},
   "outputs": [
    {
     "data": {
      "text/plain": [
       "[31891, 291, 1230, 88]"
      ]
     },
     "execution_count": 7,
     "metadata": {},
     "output_type": "execute_result"
    }
   ],
   "source": [
    "[len(train[train.cluster==i]) for i in range(4)]"
   ]
  },
  {
   "cell_type": "code",
   "execution_count": 8,
   "metadata": {},
   "outputs": [
    {
     "data": {
      "text/plain": [
       "[8647993.942253307, 357976533.8927835, 121761333.1052032, 830759991.8522727]"
      ]
     },
     "execution_count": 8,
     "metadata": {},
     "output_type": "execute_result"
    }
   ],
   "source": [
    "[train[train.cluster==i].revenue.mean() for i in range(4)]"
   ]
  },
  {
   "cell_type": "code",
   "execution_count": 9,
   "metadata": {},
   "outputs": [
    {
     "data": {
      "text/html": [
       "<div>\n",
       "<style scoped>\n",
       "    .dataframe tbody tr th:only-of-type {\n",
       "        vertical-align: middle;\n",
       "    }\n",
       "\n",
       "    .dataframe tbody tr th {\n",
       "        vertical-align: top;\n",
       "    }\n",
       "\n",
       "    .dataframe thead th {\n",
       "        text-align: right;\n",
       "    }\n",
       "</style>\n",
       "<table border=\"1\" class=\"dataframe\">\n",
       "  <thead>\n",
       "    <tr style=\"text-align: right;\">\n",
       "      <th></th>\n",
       "      <th>budget</th>\n",
       "      <th>popularity</th>\n",
       "      <th>revenue</th>\n",
       "      <th>runtime</th>\n",
       "      <th>vote_average</th>\n",
       "      <th>vote_count</th>\n",
       "    </tr>\n",
       "    <tr>\n",
       "      <th>cluster</th>\n",
       "      <th></th>\n",
       "      <th></th>\n",
       "      <th></th>\n",
       "      <th></th>\n",
       "      <th></th>\n",
       "      <th></th>\n",
       "    </tr>\n",
       "  </thead>\n",
       "  <tbody>\n",
       "    <tr>\n",
       "      <th>0</th>\n",
       "      <td>5.370570e+06</td>\n",
       "      <td>2.413693</td>\n",
       "      <td>8.647994e+06</td>\n",
       "      <td>93.168762</td>\n",
       "      <td>5.603587</td>\n",
       "      <td>46.332727</td>\n",
       "    </tr>\n",
       "    <tr>\n",
       "      <th>1</th>\n",
       "      <td>8.998567e+07</td>\n",
       "      <td>15.315478</td>\n",
       "      <td>3.579765e+08</td>\n",
       "      <td>115.738832</td>\n",
       "      <td>6.523368</td>\n",
       "      <td>2302.340206</td>\n",
       "    </tr>\n",
       "    <tr>\n",
       "      <th>2</th>\n",
       "      <td>4.232640e+07</td>\n",
       "      <td>10.886648</td>\n",
       "      <td>1.217613e+08</td>\n",
       "      <td>121.295935</td>\n",
       "      <td>6.322846</td>\n",
       "      <td>856.539837</td>\n",
       "    </tr>\n",
       "    <tr>\n",
       "      <th>3</th>\n",
       "      <td>1.553807e+08</td>\n",
       "      <td>42.800296</td>\n",
       "      <td>8.307600e+08</td>\n",
       "      <td>128.147727</td>\n",
       "      <td>6.951136</td>\n",
       "      <td>5137.170455</td>\n",
       "    </tr>\n",
       "  </tbody>\n",
       "</table>\n",
       "</div>"
      ],
      "text/plain": [
       "               budget  popularity       revenue     runtime  vote_average  \\\n",
       "cluster                                                                     \n",
       "0        5.370570e+06    2.413693  8.647994e+06   93.168762      5.603587   \n",
       "1        8.998567e+07   15.315478  3.579765e+08  115.738832      6.523368   \n",
       "2        4.232640e+07   10.886648  1.217613e+08  121.295935      6.322846   \n",
       "3        1.553807e+08   42.800296  8.307600e+08  128.147727      6.951136   \n",
       "\n",
       "          vote_count  \n",
       "cluster               \n",
       "0          46.332727  \n",
       "1        2302.340206  \n",
       "2         856.539837  \n",
       "3        5137.170455  "
      ]
     },
     "execution_count": 9,
     "metadata": {},
     "output_type": "execute_result"
    }
   ],
   "source": [
    "train.groupby(['cluster']).mean()"
   ]
  },
  {
   "cell_type": "code",
   "execution_count": 10,
   "metadata": {},
   "outputs": [
    {
     "data": {
      "image/png": "[encoded data removed]",
      "text/plain": [
       "<Figure size 432x288 with 1 Axes>"
      ]
     },
     "metadata": {},
     "output_type": "display_data"
    }
   ],
   "source": [
    "size_array = list(train.groupby(['cluster']).count()['revenue'].values)\n",
    "train[train['cluster']==size_array.index(sorted(size_array)[0])].revenue.mean()\n",
    "plt.scatter(train.popularity,train.revenue,c=kmeans.labels_)\n",
    "plt.show()"
   ]
  },
  {
   "cell_type": "code",
   "execution_count": 11,
   "metadata": {},
   "outputs": [
    {
     "data": {
      "text/plain": [
       "291"
      ]
     },
     "execution_count": 11,
     "metadata": {},
     "output_type": "execute_result"
    }
   ],
   "source": [
    "cluster1 = train[train.cluster==1]\n",
    "cluster1 = cluster1[cluster1.revenue!=0]\n",
    "len(cluster1)"
   ]
  },
  {
   "cell_type": "code",
   "execution_count": 12,
   "metadata": {},
   "outputs": [
    {
     "name": "stdout",
     "output_type": "stream",
     "text": [
      "               budget  popularity       revenue     runtime  vote_average  \\\n",
      "cluster                                                                     \n",
      "0        5.370570e+06    2.413693  8.647994e+06   93.168762      5.603587   \n",
      "1        8.998567e+07   15.315478  3.579765e+08  115.738832      6.523368   \n",
      "2        4.232640e+07   10.886648  1.217613e+08  121.295935      6.322846   \n",
      "3        1.553807e+08   42.800296  8.307600e+08  128.147727      6.951136   \n",
      "\n",
      "          vote_count  \n",
      "cluster               \n",
      "0          46.332727  \n",
      "1        2302.340206  \n",
      "2         856.539837  \n",
      "3        5137.170455  \n",
      "               budget  popularity       revenue     runtime  vote_average  \\\n",
      "cluster                                                                     \n",
      "0        5.356756e+06    2.451821  8.746525e+06   92.451549      5.595282   \n",
      "1        8.647384e+07   17.507276  3.583654e+08  119.091667      6.580000   \n",
      "2        4.211883e+07   10.071668  1.156515e+08  118.667526      6.290464   \n",
      "3        1.601750e+08   37.632175  9.920958e+08  129.550000      7.025000   \n",
      "\n",
      "          vote_count  \n",
      "cluster               \n",
      "0          45.341087  \n",
      "1        2629.266667  \n",
      "2         820.190722  \n",
      "3        5521.875000  \n"
     ]
    },
    {
     "name": "stderr",
     "output_type": "stream",
     "text": [
      "/Users/rahulshiv/anaconda/lib/python3.6/site-packages/ipykernel_launcher.py:2: SettingWithCopyWarning: \n",
      "A value is trying to be set on a copy of a slice from a DataFrame.\n",
      "Try using .loc[row_indexer,col_indexer] = value instead\n",
      "\n",
      "See the caveats in the documentation: http://pandas.pydata.org/pandas-docs/stable/indexing.html#indexing-view-versus-copy\n",
      "  \n"
     ]
    }
   ],
   "source": [
    "test_clusters = kmeans.predict(test.revenue.values.reshape(-1,1))\n",
    "test['cluster'] = test_clusters\n",
    "print(train.groupby(['cluster']).mean())\n",
    "print(test.groupby(['cluster']).mean())"
   ]
  },
  {
   "cell_type": "code",
   "execution_count": 13,
   "metadata": {},
   "outputs": [
    {
     "name": "stdout",
     "output_type": "stream",
     "text": [
      "         revenue\n",
      "22230  11.381228\n",
      "28326  16.401102\n",
      "2736   14.112980\n",
      "27719  16.386707\n",
      "25919  15.324810\n",
      "9010   14.888516\n",
      "43500  11.381228\n",
      "25103  13.377614\n",
      "12521  18.253465\n",
      "7394   16.130910\n",
      "28343  18.235088\n",
      "11576  16.427780\n",
      "4696   17.446912\n",
      "10073  14.236771\n",
      "12385  12.634851\n",
      "40570  14.948002\n",
      "42088  15.882817\n",
      "11999  13.035131\n",
      "37628  13.791024\n",
      "5456   12.426027\n",
      "41916  14.858580\n",
      "22476  14.874973\n",
      "2648   17.021677\n",
      "21718  14.510196\n",
      "21522  15.453221\n",
      "26091  16.389691\n",
      "31723  12.755595\n",
      "17052  14.109176\n",
      "34799  12.655745\n",
      "41775  15.837135\n",
      "...          ...\n",
      "34227  12.335220\n",
      "18665  14.689931\n",
      "27960  14.949928\n",
      "10284  16.521905\n",
      "43221  17.151073\n",
      "13171  16.034342\n",
      "14620  15.804467\n",
      "1409   16.401102\n",
      "29316  14.168533\n",
      "29268  15.781928\n",
      "33462  12.792798\n",
      "9797   14.933050\n",
      "18881  15.416395\n",
      "27544  11.779443\n",
      "37089  15.154199\n",
      "11197  16.543683\n",
      "31707  15.769737\n",
      "29985  15.185589\n",
      "29664  14.850020\n",
      "43791  14.510852\n",
      "9509   16.021680\n",
      "43610  15.648080\n",
      "44500  13.527560\n",
      "29103  15.895940\n",
      "28193  15.237303\n",
      "34656  16.401102\n",
      "766    14.096176\n",
      "34802  14.195087\n",
      "33035  11.642351\n",
      "27992  17.471259\n",
      "\n",
      "[33500 rows x 1 columns]\n",
      "2.080746991251544\n",
      "         revenue  revenue_pred\n",
      "22230  11.381228     15.130997\n",
      "28326  16.401102     15.170268\n",
      "2736   14.112980     15.158574\n",
      "27719  16.386707     15.828196\n",
      "25919  15.324810     15.129622\n",
      "9010   14.888516     15.129393\n",
      "43500  11.381228     14.923474\n",
      "25103  13.377614     15.257686\n",
      "12521  18.253465     16.679104\n",
      "7394   16.130910     15.319384\n",
      "28343  18.235088     16.410910\n",
      "11576  16.427780     15.805199\n",
      "4696   17.446912     15.329075\n",
      "10073  14.236771     15.388333\n",
      "12385  12.634851     15.419197\n",
      "40570  14.948002     15.004614\n",
      "42088  15.882817     14.924351\n",
      "11999  13.035131     15.367368\n",
      "37628  13.791024     15.066189\n",
      "5456   12.426027     15.105339\n",
      "41916  14.858580     15.131794\n",
      "22476  14.874973     15.037980\n",
      "2648   17.021677     15.687000\n",
      "21718  14.510196     15.088742\n",
      "21522  15.453221     14.885174\n",
      "26091  16.389691     15.155507\n",
      "31723  12.755595     15.391080\n",
      "17052  14.109176     15.490560\n",
      "34799  12.655745     15.244135\n",
      "41775  15.837135     15.115888\n",
      "...          ...           ...\n",
      "34227  12.335220     14.868316\n",
      "18665  14.689931     15.078308\n",
      "27960  14.949928     15.014679\n",
      "10284  16.521905     15.331044\n",
      "43221  17.151073     14.839268\n",
      "13171  16.034342     15.170854\n",
      "14620  15.804467     15.181746\n",
      "1409   16.401102     15.192666\n",
      "29316  14.168533     15.005503\n",
      "29268  15.781928     15.396240\n",
      "33462  12.792798     14.965156\n",
      "9797   14.933050     15.115583\n",
      "18881  15.416395     15.319042\n",
      "27544  11.779443     15.612079\n",
      "37089  15.154199     14.979242\n",
      "11197  16.543683     16.774591\n",
      "31707  15.769737     15.088667\n",
      "29985  15.185589     15.004720\n",
      "29664  14.850020     15.061233\n",
      "43791  14.510852     15.014795\n",
      "9509   16.021680     15.313220\n",
      "43610  15.648080     15.180696\n",
      "44500  13.527560     14.962355\n",
      "29103  15.895940     15.030421\n",
      "28193  15.237303     14.901349\n",
      "34656  16.401102     15.280255\n",
      "766    14.096176     15.053496\n",
      "34802  14.195087     15.116808\n",
      "33035  11.642351     15.461148\n",
      "27992  17.471259     15.051168\n",
      "\n",
      "[33500 rows x 2 columns]\n",
      "22230   -3.749769\n",
      "28326    1.230834\n",
      "2736    -1.045595\n",
      "27719    0.558511\n",
      "25919    0.195188\n",
      "9010    -0.240877\n",
      "43500   -3.542246\n",
      "25103   -1.880072\n",
      "12521    1.574360\n",
      "7394     0.811525\n",
      "28343    1.824178\n",
      "11576    0.622582\n",
      "4696     2.117837\n",
      "10073   -1.151562\n",
      "12385   -2.784347\n",
      "40570   -0.056612\n",
      "42088    0.958466\n",
      "11999   -2.332237\n",
      "37628   -1.275165\n",
      "5456    -2.679311\n",
      "41916   -0.273214\n",
      "22476   -0.163007\n",
      "2648     1.334677\n",
      "21718   -0.578547\n",
      "21522    0.568046\n",
      "26091    1.234184\n",
      "31723   -2.635485\n",
      "17052   -1.381383\n",
      "34799   -2.588390\n",
      "41775    0.721247\n",
      "           ...   \n",
      "34227   -2.533096\n",
      "18665   -0.388378\n",
      "27960   -0.064751\n",
      "10284    1.190861\n",
      "43221    2.311805\n",
      "13171    0.863487\n",
      "14620    0.622721\n",
      "1409     1.208436\n",
      "29316   -0.836970\n",
      "29268    0.385688\n",
      "33462   -2.172359\n",
      "9797    -0.182533\n",
      "18881    0.097353\n",
      "27544   -3.832636\n",
      "37089    0.174957\n",
      "11197   -0.230908\n",
      "31707    0.681070\n",
      "29985    0.180869\n",
      "29664   -0.211214\n",
      "43791   -0.503943\n",
      "9509     0.708460\n",
      "43610    0.467384\n",
      "44500   -1.434795\n",
      "29103    0.865518\n",
      "28193    0.335953\n",
      "34656    1.120847\n",
      "766     -0.957320\n",
      "34802   -0.921721\n",
      "33035   -3.818797\n",
      "27992    2.420091\n",
      "Length: 33500, dtype: float64\n",
      "0.24127760556312372\n"
     ]
    },
    {
     "name": "stderr",
     "output_type": "stream",
     "text": [
      "/Users/rahulshiv/anaconda/lib/python3.6/site-packages/sklearn/linear_model/base.py:539: RuntimeWarning: internal gelsd driver lwork query error, required iwork dimension not returned. This is likely the result of LAPACK bug 0038, fixed in LAPACK 3.2.2 (released July 21, 2010). Falling back to 'gelss' driver.\n",
      "  linalg.lstsq(X, y)\n"
     ]
    }
   ],
   "source": [
    "from sklearn import linear_model\n",
    "from sklearn.metrics import mean_squared_error\n",
    "\n",
    "X = train[['budget','popularity','runtime','vote_average','vote_count']]\n",
    "# y = (train[['revenue']])\n",
    "y = np.log(train[['revenue']])\n",
    "print(y)\n",
    "lm = linear_model.LinearRegression()\n",
    "model = lm.fit(X,y)\n",
    "predictions = lm.predict(X)\n",
    "pred = pd.DataFrame(predictions,columns=[\"revenue\"])\n",
    "y['revenue_pred'] = predictions\n",
    "y = y[y.revenue_pred>0]\n",
    "\n",
    "# log_y = np.log10(y.revenue)\n",
    "# log_y_pred = np.log10(y.revenue_pred)\n",
    "# print(mean_squared_error(log_y,log_y_pred))\n",
    "print(mean_squared_error(y.revenue,y.revenue_pred))\n",
    "\n",
    "print(y)\n",
    "residuals = y.revenue - y.revenue_pred\n",
    "print(residuals)\n",
    "# plt.scatter(y.revenue,y.revenue_pred)\n",
    "# plt.scatter(residuals,y.revenue_pred)\n",
    "plt.show()\n",
    "\n",
    "print(model.score(X,y.revenue))"
   ]
  },
  {
   "cell_type": "code",
   "execution_count": null,
   "metadata": {},
   "outputs": [],
   "source": []
  },
  {
   "cell_type": "code",
   "execution_count": null,
   "metadata": {
    "collapsed": true
   },
   "outputs": [],
   "source": []
  },
  {
   "cell_type": "code",
   "execution_count": null,
   "metadata": {
    "collapsed": true
   },
   "outputs": [],
   "source": []
  }
 ],
 "metadata": {
  "kernelspec": {
   "display_name": "Python 3",
   "language": "python",
   "name": "python3"
  },
  "language_info": {
   "codemirror_mode": {
    "name": "ipython",
    "version": 3
   },
   "file_extension": ".py",
   "mimetype": "text/x-python",
   "name": "python",
   "nbconvert_exporter": "python",
   "pygments_lexer": "ipython3",
   "version": "3.6.1"
  }
 },
 "nbformat": 4,
 "nbformat_minor": 2
}
