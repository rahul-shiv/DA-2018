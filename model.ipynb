{
 "cells": [
  {
   "cell_type": "code",
   "execution_count": 1,
   "metadata": {
    "collapsed": true
   },
   "outputs": [],
   "source": [
    "import pandas as pd\n",
    "from sklearn import datasets, linear_model\n",
    "from sklearn.metrics import mean_squared_error, r2_score\n",
    "from sklearn.model_selection import train_test_split\n",
    "from sklearn import preprocessing\n",
    "from sklearn.cluster import KMeans\n",
    "import numpy as np\n",
    "import matplotlib.pyplot as plt\n",
    "import random\n",
    "random.seed(1)"
   ]
  },
  {
   "cell_type": "code",
   "execution_count": 2,
   "metadata": {
    "collapsed": true
   },
   "outputs": [],
   "source": [
    "keywords = pd.read_csv('keywords_preprocessed.csv')\n",
    "meta = pd.read_csv('movies_metadata_preprocessed.csv')\n",
    "ratings = pd.read_csv('ratings_preprocessed.csv')"
   ]
  },
  {
   "cell_type": "code",
   "execution_count": 3,
   "metadata": {},
   "outputs": [
    {
     "name": "stderr",
     "output_type": "stream",
     "text": [
      "/Users/rahulshiv/anaconda/lib/python3.6/site-packages/ipykernel_launcher.py:3: SettingWithCopyWarning: \n",
      "A value is trying to be set on a copy of a slice from a DataFrame\n",
      "\n",
      "See the caveats in the documentation: http://pandas.pydata.org/pandas-docs/stable/indexing.html#indexing-view-versus-copy\n",
      "  This is separate from the ipykernel package so we can avoid doing imports until\n",
      "/Users/rahulshiv/anaconda/lib/python3.6/site-packages/ipykernel_launcher.py:6: SettingWithCopyWarning: \n",
      "A value is trying to be set on a copy of a slice from a DataFrame.\n",
      "Try using .loc[row_indexer,col_indexer] = value instead\n",
      "\n",
      "See the caveats in the documentation: http://pandas.pydata.org/pandas-docs/stable/indexing.html#indexing-view-versus-copy\n",
      "  \n"
     ]
    }
   ],
   "source": [
    "#random_state in the train test split has been set to 1 to recreate results, remove it to review model\n",
    "df_numeric = meta[['budget','popularity','revenue','runtime','vote_average','vote_count']]\n",
    "df_numeric.dropna(inplace=True)\n",
    "#new feature \"new\" has been engineered to be able to use the votes provided by viewers while trying to \n",
    "#give importance to number of voters\n",
    "df_numeric['new'] = df_numeric['vote_average']*np.power(df_numeric['vote_count'],0.8)\n",
    "train,test = train_test_split(df_numeric,test_size=0.25,random_state = 1)"
   ]
  },
  {
   "cell_type": "code",
   "execution_count": 4,
   "metadata": {
    "collapsed": true
   },
   "outputs": [],
   "source": [
    "x = train.values\n",
    "min_max_scaler = preprocessing.MinMaxScaler()\n",
    "x_scaled = min_max_scaler.fit_transform(x)\n",
    "df = pd.DataFrame(x_scaled)\n",
    "df.columns = df_numeric.columns"
   ]
  },
  {
   "cell_type": "code",
   "execution_count": 5,
   "metadata": {},
   "outputs": [
    {
     "data": {
      "image/png": "[encoded data removed]",
      "text/plain": [
       "<Figure size 432x288 with 1 Axes>"
      ]
     },
     "metadata": {},
     "output_type": "display_data"
    }
   ],
   "source": [
    "Nc = range(1, 20)\n",
    "kmeans = [KMeans(n_clusters=i) for i in Nc]\n",
    "kmeans\n",
    "y = np.array(train.revenue).reshape(-1,1)\n",
    "score = [kmeans[i].fit(y).score(y) for i in range(len(kmeans))]\n",
    "score\n",
    "plt.plot(Nc,score)\n",
    "plt.xlabel('Number of Clusters')\n",
    "plt.ylabel('Score')\n",
    "plt.title('Elbow Curve')\n",
    "plt.show()"
   ]
  },
  {
   "cell_type": "code",
   "execution_count": 6,
   "metadata": {},
   "outputs": [
    {
     "name": "stderr",
     "output_type": "stream",
     "text": [
      "/Users/rahulshiv/anaconda/lib/python3.6/site-packages/ipykernel_launcher.py:4: SettingWithCopyWarning: \n",
      "A value is trying to be set on a copy of a slice from a DataFrame.\n",
      "Try using .loc[row_indexer,col_indexer] = value instead\n",
      "\n",
      "See the caveats in the documentation: http://pandas.pydata.org/pandas-docs/stable/indexing.html#indexing-view-versus-copy\n",
      "  after removing the cwd from sys.path.\n"
     ]
    }
   ],
   "source": [
    "#we look at the graph and not that elbow is at 4 and hence we choose 4 as\n",
    "kmeans = KMeans(n_clusters=4)\n",
    "pred = kmeans.fit(y).predict(y)\n",
    "train['cluster'] = kmeans.labels_\n"
   ]
  },
  {
   "cell_type": "code",
   "execution_count": 7,
   "metadata": {},
   "outputs": [
    {
     "name": "stdout",
     "output_type": "stream",
     "text": [
      "Size of clusters :  [31385, 300, 1240, 75]\n"
     ]
    }
   ],
   "source": [
    "print('Size of clusters : ',[len(train[train.cluster==i]) for i in range(4)])"
   ]
  },
  {
   "cell_type": "code",
   "execution_count": 8,
   "metadata": {},
   "outputs": [
    {
     "data": {
      "text/html": [
       "<div>\n",
       "<style scoped>\n",
       "    .dataframe tbody tr th:only-of-type {\n",
       "        vertical-align: middle;\n",
       "    }\n",
       "\n",
       "    .dataframe tbody tr th {\n",
       "        vertical-align: top;\n",
       "    }\n",
       "\n",
       "    .dataframe thead th {\n",
       "        text-align: right;\n",
       "    }\n",
       "</style>\n",
       "<table border=\"1\" class=\"dataframe\">\n",
       "  <thead>\n",
       "    <tr style=\"text-align: right;\">\n",
       "      <th></th>\n",
       "      <th>budget</th>\n",
       "      <th>popularity</th>\n",
       "      <th>revenue</th>\n",
       "      <th>runtime</th>\n",
       "      <th>vote_average</th>\n",
       "      <th>vote_count</th>\n",
       "      <th>new</th>\n",
       "    </tr>\n",
       "    <tr>\n",
       "      <th>cluster</th>\n",
       "      <th></th>\n",
       "      <th></th>\n",
       "      <th></th>\n",
       "      <th></th>\n",
       "      <th></th>\n",
       "      <th></th>\n",
       "      <th></th>\n",
       "    </tr>\n",
       "  </thead>\n",
       "  <tbody>\n",
       "    <tr>\n",
       "      <th>0</th>\n",
       "      <td>5.433583e+06</td>\n",
       "      <td>2.462828</td>\n",
       "      <td>9.070498e+06</td>\n",
       "      <td>93.622973</td>\n",
       "      <td>5.605420</td>\n",
       "      <td>46.572790</td>\n",
       "      <td>107.434876</td>\n",
       "    </tr>\n",
       "    <tr>\n",
       "      <th>1</th>\n",
       "      <td>9.166186e+07</td>\n",
       "      <td>16.558969</td>\n",
       "      <td>3.796306e+08</td>\n",
       "      <td>117.426667</td>\n",
       "      <td>6.589667</td>\n",
       "      <td>2500.530000</td>\n",
       "      <td>3423.160379</td>\n",
       "    </tr>\n",
       "    <tr>\n",
       "      <th>2</th>\n",
       "      <td>4.341587e+07</td>\n",
       "      <td>10.930461</td>\n",
       "      <td>1.238808e+08</td>\n",
       "      <td>119.984677</td>\n",
       "      <td>6.324435</td>\n",
       "      <td>881.073387</td>\n",
       "      <td>1380.460633</td>\n",
       "    </tr>\n",
       "    <tr>\n",
       "      <th>3</th>\n",
       "      <td>1.621867e+08</td>\n",
       "      <td>50.661106</td>\n",
       "      <td>9.431160e+08</td>\n",
       "      <td>132.893333</td>\n",
       "      <td>6.982667</td>\n",
       "      <td>5598.280000</td>\n",
       "      <td>6990.790071</td>\n",
       "    </tr>\n",
       "  </tbody>\n",
       "</table>\n",
       "</div>"
      ],
      "text/plain": [
       "               budget  popularity       revenue     runtime  vote_average  \\\n",
       "cluster                                                                     \n",
       "0        5.433583e+06    2.462828  9.070498e+06   93.622973      5.605420   \n",
       "1        9.166186e+07   16.558969  3.796306e+08  117.426667      6.589667   \n",
       "2        4.341587e+07   10.930461  1.238808e+08  119.984677      6.324435   \n",
       "3        1.621867e+08   50.661106  9.431160e+08  132.893333      6.982667   \n",
       "\n",
       "          vote_count          new  \n",
       "cluster                            \n",
       "0          46.572790   107.434876  \n",
       "1        2500.530000  3423.160379  \n",
       "2         881.073387  1380.460633  \n",
       "3        5598.280000  6990.790071  "
      ]
     },
     "execution_count": 8,
     "metadata": {},
     "output_type": "execute_result"
    }
   ],
   "source": [
    "train.groupby(['cluster']).mean()"
   ]
  },
  {
   "cell_type": "code",
   "execution_count": null,
   "metadata": {},
   "outputs": [],
   "source": [
    "size_array = list(train.groupby(['cluster']).count()['revenue'].values)\n",
    "train[train['cluster']==size_array.index(sorted(size_array)[0])].revenue.mean()\n",
    "for i in train.iloc[:,:-1]:\n",
    "    plt.scatter(train[i],train['revenue'],c=kmeans.labels_)\n",
    "    plt.xlabel(\"Revenue\")\n",
    "    plt.ylabel(i)\n",
    "    plt.title('Revenue vs '+i)\n",
    "    plt.show()"
   ]
  },
  {
   "cell_type": "code",
   "execution_count": null,
   "metadata": {},
   "outputs": [],
   "source": [
    "cluster1 = train[train.cluster==0]\n",
    "cluster1 = cluster1[cluster1.revenue!=0]\n",
    "print('Size of cluster 1: ',len(cluster1))"
   ]
  },
  {
   "cell_type": "code",
   "execution_count": null,
   "metadata": {},
   "outputs": [],
   "source": [
    "#we can observe clusters in the train and test dataset\n",
    "test_clusters = kmeans.predict(test.revenue.values.reshape(-1,1))\n",
    "test['cluster'] = test_clusters\n",
    "print(train.groupby(['cluster']).mean())\n",
    "print(test.groupby(['cluster']).mean())"
   ]
  },
  {
   "cell_type": "code",
   "execution_count": null,
   "metadata": {},
   "outputs": [],
   "source": [
    "#Linear regression done on selected attributes\n",
    "from sklearn import linear_model\n",
    "from sklearn.metrics import mean_squared_error\n",
    "\n",
    "\n",
    "X = train[['budget','popularity','new']]\n",
    "y = train[['revenue']]\n",
    "\n",
    "lm = linear_model.LinearRegression()\n",
    "model = lm.fit(X,y)\n",
    "predictions = lm.predict(X)\n",
    "pred = pd.DataFrame(predictions,columns=[\"revenue\"])\n",
    "y['revenue_pred'] = predictions\n",
    "\n",
    "print((mean_squared_error(y.revenue,y.revenue_pred))**0.5)\n",
    "\n",
    "\n",
    "residuals = y.revenue - y.revenue_pred\n",
    "plt.scatter(y.revenue,y.revenue_pred,c=kmeans.labels_)\n",
    "plt.xlabel(\"Actuals Revenue\")\n",
    "plt.ylabel(\"Predicted Revenue\")\n",
    "plt.show()\n",
    "plt.scatter(y.revenue_pred,residuals,c=kmeans.labels_)\n",
    "plt.xlabel(\"Residuals\")\n",
    "plt.ylabel(\"Predicted\")\n",
    "plt.show()\n",
    "\n",
    "print(model.score(X,y.revenue))"
   ]
  }
 ],
 "metadata": {
  "kernelspec": {
   "display_name": "Python 3",
   "language": "python",
   "name": "python3"
  },
  "language_info": {
   "codemirror_mode": {
    "name": "ipython",
    "version": 3
   },
   "file_extension": ".py",
   "mimetype": "text/x-python",
   "name": "python",
   "nbconvert_exporter": "python",
   "pygments_lexer": "ipython3",
   "version": "3.6.1"
  }
 },
 "nbformat": 4,
 "nbformat_minor": 2
}
